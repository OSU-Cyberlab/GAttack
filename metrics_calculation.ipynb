{
 "cells": [
  {
   "cell_type": "code",
   "execution_count": 1,
   "metadata": {},
   "outputs": [],
   "source": [
    "import pandas as pd\n",
    "import numpy as np\n",
    "import pandas as pd\n",
    "import matplotlib.pyplot as plt\n",
    "from sklearn.preprocessing import MinMaxScaler\n",
    "import metrics as m\n",
    "from data_processing import data_loading\n",
    "\n",
    "seq_len = 50"
   ]
  },
  {
   "cell_type": "code",
   "execution_count": 4,
   "metadata": {},
   "outputs": [],
   "source": [
    "df_ori = pd.read_csv('Datasets/OriginalData.csv')[['sensor1', 'sensor2']]\n",
    "df_gen = pd.read_csv('Datasets/GeneratedData.csv')[['sensor1', 'sensor2']]\n",
    "\n",
    "scaler1 = MinMaxScaler().fit(pd.DataFrame(df_ori['sensor1']).values)\n",
    "scaler2 = MinMaxScaler().fit(pd.DataFrame(df_ori['sensor2']).values)\n",
    "\n",
    "s1_ori = data_loading(pd.DataFrame(df_ori['sensor1']).values, seq_len, scaler1, True)\n",
    "s1_ori = np.array(s1_ori)\n",
    "s2_ori = data_loading(pd.DataFrame(df_ori['sensor2']).values, seq_len, scaler2, True)\n",
    "s2_ori = np.array(s2_ori)\n",
    "s1_gen = data_loading(pd.DataFrame(df_gen['sensor1']).values, seq_len, scaler1, True)\n",
    "s1_gen = np.array(s1_gen)\n",
    "s2_gen = data_loading(pd.DataFrame(df_gen['sensor2']).values, seq_len, scaler2, True)\n",
    "s2_gen = np.array(s2_gen)\n",
    "\n",
    "ori_data = np.concatenate((s1_ori, s2_ori), axis=2)\n",
    "gen_data = np.concatenate((s1_gen, s2_gen), axis=2)"
   ]
  },
  {
   "cell_type": "code",
   "execution_count": 8,
   "metadata": {},
   "outputs": [
    {
     "name": "stderr",
     "output_type": "stream",
     "text": [
      "c:\\Users\\merol\\Desktop\\Coding Projects\\RecurrentCGAN\\metrics.py:186: UserWarning: `tf.nn.rnn_cell.GRUCell` is deprecated and will be removed in a future version. This class is equivalent as `tf.keras.layers.GRUCell`, and will be replaced by that in Tensorflow 2.0.\n",
      "  p_cell = tf.compat.v1.nn.rnn_cell.GRUCell(num_units=hidden_dim, activation=tf.nn.tanh, name = 'p_cell')\n",
      "c:\\Users\\merol\\Desktop\\Coding Projects\\RecurrentCGAN\\metrics.py:188: UserWarning: `tf.layers.dense` is deprecated and will be removed in a future version. Please use `tf.keras.layers.Dense` instead.\n",
      "  y_hat_logit = tf.compat.v1.layers.dense(p_outputs, 1, activation=None)\n"
     ]
    }
   ],
   "source": [
    "ds = m.compute_discriminative_score(ori_data, gen_data)\n",
    "ps = m.compute_predictive_score(ori_data, gen_data)\n",
    "mmd = m.compute_MMD(ori_data, gen_data, 1000)"
   ]
  }
 ],
 "metadata": {
  "kernelspec": {
   "display_name": "base",
   "language": "python",
   "name": "python3"
  },
  "language_info": {
   "codemirror_mode": {
    "name": "ipython",
    "version": 3
   },
   "file_extension": ".py",
   "mimetype": "text/x-python",
   "name": "python",
   "nbconvert_exporter": "python",
   "pygments_lexer": "ipython3",
   "version": "3.10.13"
  }
 },
 "nbformat": 4,
 "nbformat_minor": 2
}
